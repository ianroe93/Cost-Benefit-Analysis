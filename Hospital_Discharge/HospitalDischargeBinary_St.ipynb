{
 "cells": [
  {
   "cell_type": "markdown",
   "metadata": {},
   "source": [
    "# Predicting Hospital Discharge Outcomes"
   ]
  },
  {
   "cell_type": "markdown",
   "metadata": {},
   "source": [
    "In this code, we will explore a dataset of patient hospital discharge outcomes as a function of the treatment they receive. We will then examine the business value of the predictive model for UVA Hospital. Finally, we learn how to use cost-sensitive training to maximize the business value of the predictive model."
   ]
  },
  {
   "cell_type": "markdown",
   "metadata": {},
   "source": [
    "## 1. Import packages"
   ]
  },
  {
   "cell_type": "markdown",
   "metadata": {},
   "source": [
    "First, we will import our normal selection of packages. However, this time, we will be importing the classification version of the models we've been using. These will have different names, but generally, the parameters will be identical or nearly so."
   ]
  },
  {
   "cell_type": "code",
   "execution_count": 1,
   "metadata": {},
   "outputs": [],
   "source": [
    "import numpy as np # Library for math operations\n",
    "import pandas as pd # Library for data handling\n",
    "import sklearn # The machine learning library we will be using in this entire course\n",
    "from sklearn import tree # Tree function is used for visualizing decision tree\n",
    "from sklearn.metrics import * \n",
    "# Importing function that can be used to calculate different metrics\n",
    "from sklearn.tree import DecisionTreeClassifier # Importing Decision Tree Classifier \n",
    "from sklearn.ensemble import RandomForestClassifier  # Importing Random Forest Classifier \n",
    "from sklearn.model_selection import train_test_split # Importing function that can split a dataset into training and testing set\n",
    "from sklearn.preprocessing import LabelEncoder, MinMaxScaler, StandardScaler # Importing function for scaling the data\n",
    "from sklearn.ensemble import StackingClassifier, GradientBoostingClassifier, VotingClassifier\n",
    "from sklearn.model_selection import GridSearchCV # Importing GridSearchCV\n",
    "from sklearn.pipeline import make_pipeline\n",
    "from sklearn.neighbors import KNeighborsClassifier\n",
    "from sklearn.linear_model import LogisticRegression\n",
    "from xgboost import XGBClassifier # Importing the XGBoost Classifier \n",
    "import matplotlib.pyplot as plt # Importing the package for plotting\n",
    "plt.style.use('fivethirtyeight') # Use the styling from FiveThirtyEight Website\n",
    "import seaborn as sns # Importing another package for plotting\n",
    "\n",
    "from custom_functions import plot_conf_mat, plot_roc_curve, plot_feature_importance, calculateMetricsAndPrint"
   ]
  },
  {
   "cell_type": "markdown",
   "metadata": {},
   "source": [
    "## 2. Load the Data"
   ]
  },
  {
   "cell_type": "code",
   "execution_count": 2,
   "metadata": {},
   "outputs": [],
   "source": [
    "trainInput = pd.read_csv(\"DischargeTrain.csv\")\n",
    "testInput = pd.read_csv(\"DischargeTest.csv\")"
   ]
  },
  {
   "cell_type": "code",
   "execution_count": 3,
   "metadata": {},
   "outputs": [
    {
     "data": {
      "text/html": [
       "<div>\n",
       "<style scoped>\n",
       "    .dataframe tbody tr th:only-of-type {\n",
       "        vertical-align: middle;\n",
       "    }\n",
       "\n",
       "    .dataframe tbody tr th {\n",
       "        vertical-align: top;\n",
       "    }\n",
       "\n",
       "    .dataframe thead th {\n",
       "        text-align: right;\n",
       "    }\n",
       "</style>\n",
       "<table border=\"1\" class=\"dataframe\">\n",
       "  <thead>\n",
       "    <tr style=\"text-align: right;\">\n",
       "      <th></th>\n",
       "      <th>Unique_Patient_Encounter_ID</th>\n",
       "      <th>Discharge_Type</th>\n",
       "      <th>Unique_Patient_ID</th>\n",
       "      <th>Sex</th>\n",
       "      <th>Marital_Status</th>\n",
       "      <th>Payment_Class</th>\n",
       "      <th>Previous_Discharge_Type</th>\n",
       "      <th>Age</th>\n",
       "      <th>ReadmissionCount</th>\n",
       "      <th>Diseases of the circulatory system-Cerebrovascular disease+Count*(sk_dim_dx)</th>\n",
       "      <th>...</th>\n",
       "      <th>Subacute/SNF vs HHPT pending progress+First*(PTValue)</th>\n",
       "      <th>Script given to CM+First*(PTValue)</th>\n",
       "      <th>Long Term Acute Care Hospital+First*(PTValue)</th>\n",
       "      <th>Home with nearly 24/7+First*(PTValue)</th>\n",
       "      <th>Home with initial 24/7+First*(PTValue)</th>\n",
       "      <th>Outpatient Cardiac rehab+First*(PTValue)</th>\n",
       "      <th>Outpatient Pulmonary rehab+First*(PTValue)</th>\n",
       "      <th>Hospice+First*(PTValue)</th>\n",
       "      <th>AMPAC_Raw_Score</th>\n",
       "      <th>AMPAC_Scaled_Score</th>\n",
       "    </tr>\n",
       "  </thead>\n",
       "  <tbody>\n",
       "    <tr>\n",
       "      <th>0</th>\n",
       "      <td>33434057</td>\n",
       "      <td>Home Health Agency</td>\n",
       "      <td>298873</td>\n",
       "      <td>Female</td>\n",
       "      <td>Single</td>\n",
       "      <td>Medicare Replacement</td>\n",
       "      <td>NaN</td>\n",
       "      <td>54</td>\n",
       "      <td>1</td>\n",
       "      <td>0</td>\n",
       "      <td>...</td>\n",
       "      <td>0</td>\n",
       "      <td>0</td>\n",
       "      <td>0</td>\n",
       "      <td>0</td>\n",
       "      <td>0</td>\n",
       "      <td>0</td>\n",
       "      <td>0</td>\n",
       "      <td>0</td>\n",
       "      <td>0</td>\n",
       "      <td>0</td>\n",
       "    </tr>\n",
       "    <tr>\n",
       "      <th>1</th>\n",
       "      <td>38150727</td>\n",
       "      <td>Infusion / Home</td>\n",
       "      <td>165661</td>\n",
       "      <td>Male</td>\n",
       "      <td>Divorced</td>\n",
       "      <td>Do not use</td>\n",
       "      <td>NaN</td>\n",
       "      <td>58</td>\n",
       "      <td>1</td>\n",
       "      <td>0</td>\n",
       "      <td>...</td>\n",
       "      <td>0</td>\n",
       "      <td>0</td>\n",
       "      <td>0</td>\n",
       "      <td>0</td>\n",
       "      <td>0</td>\n",
       "      <td>0</td>\n",
       "      <td>0</td>\n",
       "      <td>0</td>\n",
       "      <td>0</td>\n",
       "      <td>0</td>\n",
       "    </tr>\n",
       "  </tbody>\n",
       "</table>\n",
       "<p>2 rows × 833 columns</p>\n",
       "</div>"
      ],
      "text/plain": [
       "   Unique_Patient_Encounter_ID      Discharge_Type  Unique_Patient_ID     Sex  \\\n",
       "0                     33434057  Home Health Agency             298873  Female   \n",
       "1                     38150727     Infusion / Home             165661    Male   \n",
       "\n",
       "  Marital_Status         Payment_Class Previous_Discharge_Type  Age  \\\n",
       "0         Single  Medicare Replacement                     NaN   54   \n",
       "1       Divorced            Do not use                     NaN   58   \n",
       "\n",
       "   ReadmissionCount  \\\n",
       "0                 1   \n",
       "1                 1   \n",
       "\n",
       "   Diseases of the circulatory system-Cerebrovascular disease+Count*(sk_dim_dx)  \\\n",
       "0                                                  0                              \n",
       "1                                                  0                              \n",
       "\n",
       "   ...  Subacute/SNF vs HHPT pending progress+First*(PTValue)  \\\n",
       "0  ...                                                  0       \n",
       "1  ...                                                  0       \n",
       "\n",
       "   Script given to CM+First*(PTValue)  \\\n",
       "0                                   0   \n",
       "1                                   0   \n",
       "\n",
       "   Long Term Acute Care Hospital+First*(PTValue)  \\\n",
       "0                                              0   \n",
       "1                                              0   \n",
       "\n",
       "   Home with nearly 24/7+First*(PTValue)  \\\n",
       "0                                      0   \n",
       "1                                      0   \n",
       "\n",
       "   Home with initial 24/7+First*(PTValue)  \\\n",
       "0                                       0   \n",
       "1                                       0   \n",
       "\n",
       "   Outpatient Cardiac rehab+First*(PTValue)  \\\n",
       "0                                         0   \n",
       "1                                         0   \n",
       "\n",
       "   Outpatient Pulmonary rehab+First*(PTValue)  Hospice+First*(PTValue)  \\\n",
       "0                                           0                        0   \n",
       "1                                           0                        0   \n",
       "\n",
       "   AMPAC_Raw_Score  AMPAC_Scaled_Score  \n",
       "0                0                   0  \n",
       "1                0                   0  \n",
       "\n",
       "[2 rows x 833 columns]"
      ]
     },
     "execution_count": 3,
     "metadata": {},
     "output_type": "execute_result"
    }
   ],
   "source": [
    "trainInput.head(2)"
   ]
  },
  {
   "cell_type": "code",
   "execution_count": 4,
   "metadata": {},
   "outputs": [
    {
     "data": {
      "text/html": [
       "<div>\n",
       "<style scoped>\n",
       "    .dataframe tbody tr th:only-of-type {\n",
       "        vertical-align: middle;\n",
       "    }\n",
       "\n",
       "    .dataframe tbody tr th {\n",
       "        vertical-align: top;\n",
       "    }\n",
       "\n",
       "    .dataframe thead th {\n",
       "        text-align: right;\n",
       "    }\n",
       "</style>\n",
       "<table border=\"1\" class=\"dataframe\">\n",
       "  <thead>\n",
       "    <tr style=\"text-align: right;\">\n",
       "      <th></th>\n",
       "      <th>Unique_Patient_Encounter_ID</th>\n",
       "      <th>Discharge_Type</th>\n",
       "      <th>Unique_Patient_ID</th>\n",
       "      <th>Sex</th>\n",
       "      <th>Marital_Status</th>\n",
       "      <th>Payment_Class</th>\n",
       "      <th>Previous_Discharge_Type</th>\n",
       "      <th>Age</th>\n",
       "      <th>ReadmissionCount</th>\n",
       "      <th>Diseases of the circulatory system-Cerebrovascular disease+Count*(sk_dim_dx)</th>\n",
       "      <th>...</th>\n",
       "      <th>Subacute/SNF vs HHPT pending progress+First*(PTValue)</th>\n",
       "      <th>Script given to CM+First*(PTValue)</th>\n",
       "      <th>Long Term Acute Care Hospital+First*(PTValue)</th>\n",
       "      <th>Home with nearly 24/7+First*(PTValue)</th>\n",
       "      <th>Home with initial 24/7+First*(PTValue)</th>\n",
       "      <th>Outpatient Cardiac rehab+First*(PTValue)</th>\n",
       "      <th>Outpatient Pulmonary rehab+First*(PTValue)</th>\n",
       "      <th>Hospice+First*(PTValue)</th>\n",
       "      <th>AMPAC_Raw_Score</th>\n",
       "      <th>AMPAC_Scaled_Score</th>\n",
       "    </tr>\n",
       "  </thead>\n",
       "  <tbody>\n",
       "    <tr>\n",
       "      <th>0</th>\n",
       "      <td>37607139</td>\n",
       "      <td>Skilled Nursing Facility (SNF)</td>\n",
       "      <td>227723</td>\n",
       "      <td>Female</td>\n",
       "      <td>Divorced</td>\n",
       "      <td>Medicare</td>\n",
       "      <td>NaN</td>\n",
       "      <td>89</td>\n",
       "      <td>0</td>\n",
       "      <td>10</td>\n",
       "      <td>...</td>\n",
       "      <td>0</td>\n",
       "      <td>0</td>\n",
       "      <td>0</td>\n",
       "      <td>0</td>\n",
       "      <td>0</td>\n",
       "      <td>0</td>\n",
       "      <td>0</td>\n",
       "      <td>0</td>\n",
       "      <td>18</td>\n",
       "      <td>0</td>\n",
       "    </tr>\n",
       "    <tr>\n",
       "      <th>1</th>\n",
       "      <td>34657024</td>\n",
       "      <td>Skilled Nursing Facility (SNF)</td>\n",
       "      <td>188569</td>\n",
       "      <td>Female</td>\n",
       "      <td>Widowed</td>\n",
       "      <td>Medicare</td>\n",
       "      <td>NaN</td>\n",
       "      <td>80</td>\n",
       "      <td>0</td>\n",
       "      <td>0</td>\n",
       "      <td>...</td>\n",
       "      <td>0</td>\n",
       "      <td>0</td>\n",
       "      <td>0</td>\n",
       "      <td>0</td>\n",
       "      <td>0</td>\n",
       "      <td>0</td>\n",
       "      <td>0</td>\n",
       "      <td>0</td>\n",
       "      <td>16</td>\n",
       "      <td>0</td>\n",
       "    </tr>\n",
       "  </tbody>\n",
       "</table>\n",
       "<p>2 rows × 833 columns</p>\n",
       "</div>"
      ],
      "text/plain": [
       "   Unique_Patient_Encounter_ID                  Discharge_Type  \\\n",
       "0                     37607139  Skilled Nursing Facility (SNF)   \n",
       "1                     34657024  Skilled Nursing Facility (SNF)   \n",
       "\n",
       "   Unique_Patient_ID     Sex Marital_Status Payment_Class  \\\n",
       "0             227723  Female       Divorced      Medicare   \n",
       "1             188569  Female        Widowed      Medicare   \n",
       "\n",
       "  Previous_Discharge_Type  Age  ReadmissionCount  \\\n",
       "0                     NaN   89                 0   \n",
       "1                     NaN   80                 0   \n",
       "\n",
       "   Diseases of the circulatory system-Cerebrovascular disease+Count*(sk_dim_dx)  \\\n",
       "0                                                 10                              \n",
       "1                                                  0                              \n",
       "\n",
       "   ...  Subacute/SNF vs HHPT pending progress+First*(PTValue)  \\\n",
       "0  ...                                                  0       \n",
       "1  ...                                                  0       \n",
       "\n",
       "   Script given to CM+First*(PTValue)  \\\n",
       "0                                   0   \n",
       "1                                   0   \n",
       "\n",
       "   Long Term Acute Care Hospital+First*(PTValue)  \\\n",
       "0                                              0   \n",
       "1                                              0   \n",
       "\n",
       "   Home with nearly 24/7+First*(PTValue)  \\\n",
       "0                                      0   \n",
       "1                                      0   \n",
       "\n",
       "   Home with initial 24/7+First*(PTValue)  \\\n",
       "0                                       0   \n",
       "1                                       0   \n",
       "\n",
       "   Outpatient Cardiac rehab+First*(PTValue)  \\\n",
       "0                                         0   \n",
       "1                                         0   \n",
       "\n",
       "   Outpatient Pulmonary rehab+First*(PTValue)  Hospice+First*(PTValue)  \\\n",
       "0                                           0                        0   \n",
       "1                                           0                        0   \n",
       "\n",
       "   AMPAC_Raw_Score  AMPAC_Scaled_Score  \n",
       "0               18                   0  \n",
       "1               16                   0  \n",
       "\n",
       "[2 rows x 833 columns]"
      ]
     },
     "execution_count": 4,
     "metadata": {},
     "output_type": "execute_result"
    }
   ],
   "source": [
    "testInput.head(2)"
   ]
  },
  {
   "cell_type": "markdown",
   "metadata": {},
   "source": [
    "Let's take a look at the shape of these dataframes."
   ]
  },
  {
   "cell_type": "code",
   "execution_count": 5,
   "metadata": {},
   "outputs": [
    {
     "data": {
      "text/plain": [
       "(17435, 833)"
      ]
     },
     "execution_count": 5,
     "metadata": {},
     "output_type": "execute_result"
    }
   ],
   "source": [
    "trainInput.shape"
   ]
  },
  {
   "cell_type": "code",
   "execution_count": 6,
   "metadata": {},
   "outputs": [
    {
     "data": {
      "text/plain": [
       "(5812, 833)"
      ]
     },
     "execution_count": 6,
     "metadata": {},
     "output_type": "execute_result"
    }
   ],
   "source": [
    "testInput.shape"
   ]
  },
  {
   "cell_type": "markdown",
   "metadata": {},
   "source": [
    "Before moving forward, we need to create our target variable. Our target variable should be equal to 1 if the discharge needs paperwork, and 0 otherwise. Let's take a look at the discharge types and then determine which ones require paperwork:"
   ]
  },
  {
   "cell_type": "code",
   "execution_count": 7,
   "metadata": {},
   "outputs": [
    {
     "data": {
      "text/plain": [
       "Home Health Agency                                        5696\n",
       "HOME                                                      4790\n",
       "Skilled Nursing Facility (SNF)                            3025\n",
       "Acute Rehabilitation Facility (hospital or unit) (IRF)    1150\n",
       "EXPIRED                                                    972\n",
       "Infusion / Home                                            712\n",
       "Long Term Care Hospital (LTCH)                             395\n",
       "Hospice / Home                                             367\n",
       "DIS TO LAW ENFORCE                                         166\n",
       "AGAINST MED ADVICE                                         162\n",
       "Name: Discharge_Type, dtype: int64"
      ]
     },
     "execution_count": 7,
     "metadata": {},
     "output_type": "execute_result"
    }
   ],
   "source": [
    "trainInput['Discharge_Type'].value_counts()"
   ]
  },
  {
   "cell_type": "markdown",
   "metadata": {},
   "source": [
    "The types of discharge that require additional paperwork are `Skilled Nursing Facility (SNF)`, `Acute Rehabilitation Facility (hospital or unit) (IRF)`, and `Long Term Care Hospital (LTCH)`, so we will create a new variable which is `1` if any of those three are the discharge type or `0` if not."
   ]
  },
  {
   "cell_type": "code",
   "execution_count": 8,
   "metadata": {},
   "outputs": [
    {
     "data": {
      "text/plain": [
       "0    12865\n",
       "1     4570\n",
       "Name: Requires_Paperwork, dtype: int64"
      ]
     },
     "execution_count": 8,
     "metadata": {},
     "output_type": "execute_result"
    }
   ],
   "source": [
    "trainInput['Requires_Paperwork'] = \\\n",
    "np.where(trainInput['Discharge_Type'].isin(['Skilled Nursing Facility (SNF)',\n",
    "                                           'Acute Rehabilitation Facility (hospital or unit) (IRF)',\n",
    "                                           'Long Term Care Hospital (LTCH)']),1,0)\n",
    "\n",
    "trainInput['Requires_Paperwork'].value_counts()"
   ]
  },
  {
   "cell_type": "code",
   "execution_count": 9,
   "metadata": {},
   "outputs": [
    {
     "data": {
      "text/plain": [
       "0    4267\n",
       "1    1545\n",
       "Name: Requires_Paperwork, dtype: int64"
      ]
     },
     "execution_count": 9,
     "metadata": {},
     "output_type": "execute_result"
    }
   ],
   "source": [
    "testInput['Requires_Paperwork'] = \\\n",
    "np.where(testInput['Discharge_Type'].isin(['Skilled Nursing Facility (SNF)',\n",
    "                                           'Acute Rehabilitation Facility (hospital or unit) (IRF)',\n",
    "                                           'Long Term Care Hospital (LTCH)']),1,0)\n",
    "\n",
    "testInput['Requires_Paperwork'].value_counts()"
   ]
  },
  {
   "cell_type": "markdown",
   "metadata": {},
   "source": [
    "Now, we can go ahead and separate our x and y. Given that `Requires_Paperwork` is still fully correlated with our new y (`Requires_Paperwork`), we have to drop that as well. In addition, `Unique_Patient_Encounter_ID` and `Unique_Patient_ID` are unique identifiers and therefore there is no value in using them as predictors. So, we drop these columns too. Also, because our y values (labels) are already 0s and 1s, we don't need LabelEncode them anymore:"
   ]
  },
  {
   "cell_type": "code",
   "execution_count": 90,
   "metadata": {},
   "outputs": [],
   "source": [
    "trainData = trainInput.drop(columns = ['Unique_Patient_Encounter_ID',\n",
    "                                       'Unique_Patient_ID',\n",
    "                                       'Requires_Paperwork',\n",
    "                                      'Discharge_Type'])\n",
    "trainLabels = trainInput.Requires_Paperwork\n",
    "\n",
    "testData = testInput.drop(columns = ['Unique_Patient_Encounter_ID',\n",
    "                                     'Unique_Patient_ID',\n",
    "                                     'Requires_Paperwork',\n",
    "                                      'Discharge_Type'])\n",
    "testLabels = testInput.Requires_Paperwork"
   ]
  },
  {
   "cell_type": "markdown",
   "metadata": {},
   "source": [
    "## 3. Data Augmentations"
   ]
  },
  {
   "cell_type": "code",
   "execution_count": 11,
   "metadata": {
    "collapsed": true,
    "jupyter": {
     "outputs_hidden": true
    },
    "tags": []
   },
   "outputs": [
    {
     "name": "stdout",
     "output_type": "stream",
     "text": [
      "Requirement already satisfied: feature-engine in /opt/conda/lib/python3.10/site-packages (1.5.2)\n",
      "Requirement already satisfied: numpy>=1.18.2 in /opt/conda/lib/python3.10/site-packages (from feature-engine) (1.22.4)\n",
      "Requirement already satisfied: statsmodels>=0.11.1 in /opt/conda/lib/python3.10/site-packages (from feature-engine) (0.13.2)\n",
      "Requirement already satisfied: scipy>=1.4.1 in /opt/conda/lib/python3.10/site-packages (from feature-engine) (1.9.1)\n",
      "Requirement already satisfied: scikit-learn>=1.0.0 in /opt/conda/lib/python3.10/site-packages (from feature-engine) (1.1.2)\n",
      "Requirement already satisfied: pandas>=1.0.3 in /opt/conda/lib/python3.10/site-packages (from feature-engine) (1.4.4)\n",
      "Requirement already satisfied: python-dateutil>=2.8.1 in /opt/conda/lib/python3.10/site-packages (from pandas>=1.0.3->feature-engine) (2.8.2)\n",
      "Requirement already satisfied: pytz>=2020.1 in /opt/conda/lib/python3.10/site-packages (from pandas>=1.0.3->feature-engine) (2022.2.1)\n",
      "Requirement already satisfied: joblib>=1.0.0 in /opt/conda/lib/python3.10/site-packages (from scikit-learn>=1.0.0->feature-engine) (1.1.0)\n",
      "Requirement already satisfied: threadpoolctl>=2.0.0 in /opt/conda/lib/python3.10/site-packages (from scikit-learn>=1.0.0->feature-engine) (3.1.0)\n",
      "Requirement already satisfied: packaging>=21.3 in /opt/conda/lib/python3.10/site-packages (from statsmodels>=0.11.1->feature-engine) (21.3)\n",
      "Requirement already satisfied: patsy>=0.5.2 in /opt/conda/lib/python3.10/site-packages (from statsmodels>=0.11.1->feature-engine) (0.5.2)\n",
      "Requirement already satisfied: pyparsing!=3.0.5,>=2.0.2 in /opt/conda/lib/python3.10/site-packages (from packaging>=21.3->statsmodels>=0.11.1->feature-engine) (3.0.9)\n",
      "Requirement already satisfied: six in /opt/conda/lib/python3.10/site-packages (from patsy>=0.5.2->statsmodels>=0.11.1->feature-engine) (1.16.0)\n"
     ]
    }
   ],
   "source": [
    "!pip install feature-engine"
   ]
  },
  {
   "cell_type": "markdown",
   "metadata": {},
   "source": [
    "### 3.1. Treat Missing Values"
   ]
  },
  {
   "cell_type": "markdown",
   "metadata": {},
   "source": [
    "Before starting the data augmentations, we need to check if we have any columns with missing values. If so, we need to process them first:"
   ]
  },
  {
   "cell_type": "code",
   "execution_count": 12,
   "metadata": {},
   "outputs": [
    {
     "data": {
      "text/plain": [
       "['Previous_Discharge_Type']"
      ]
     },
     "execution_count": 12,
     "metadata": {},
     "output_type": "execute_result"
    }
   ],
   "source": [
    "trainData.columns[trainData.isnull().any()].tolist()"
   ]
  },
  {
   "cell_type": "code",
   "execution_count": 13,
   "metadata": {},
   "outputs": [
    {
     "data": {
      "text/plain": [
       "['Previous_Discharge_Type']"
      ]
     },
     "execution_count": 13,
     "metadata": {},
     "output_type": "execute_result"
    }
   ],
   "source": [
    "testData.columns[testData.isnull().any()].tolist()"
   ]
  },
  {
   "cell_type": "markdown",
   "metadata": {},
   "source": [
    "This column captures the previous discharge type if known. Given that many patients may not have a previous discharge status, or their previous discharge could be related to years ago, we just replace the missing values under this column with \"Unkown\":"
   ]
  },
  {
   "cell_type": "code",
   "execution_count": 91,
   "metadata": {},
   "outputs": [],
   "source": [
    "from feature_engine.imputation import CategoricalImputer\n",
    "\n",
    "imp = CategoricalImputer(imputation_method = 'missing',\n",
    "                            fill_value = \"Unknown\")\n",
    "\n",
    "trainData, testData = imp.fit_transform(trainData), imp.transform(testData)"
   ]
  },
  {
   "cell_type": "code",
   "execution_count": 80,
   "metadata": {},
   "outputs": [
    {
     "data": {
      "text/plain": [
       "Unknown                                                   14578\n",
       "Home Health Agency                                         1311\n",
       "Skilled Nursing Facility (SNF)                              880\n",
       "Acute Rehabilitation Facility (hospital or unit) (IRF)      257\n",
       "Infusion / Home                                             208\n",
       "HOME                                                         68\n",
       "DIS TO LAW ENFORCE                                           45\n",
       "SNF / Rehab                                                  39\n",
       "AGAINST MED ADVICE                                           21\n",
       "Long Term Care Hospital (LTCH)                               18\n",
       "Hospice / Home                                               10\n",
       "Name: Previous_Discharge_Type, dtype: int64"
      ]
     },
     "execution_count": 80,
     "metadata": {},
     "output_type": "execute_result"
    }
   ],
   "source": [
    "trainData.Previous_Discharge_Type.value_counts()"
   ]
  },
  {
   "cell_type": "code",
   "execution_count": 81,
   "metadata": {},
   "outputs": [
    {
     "data": {
      "text/plain": [
       "Unknown                                                   4893\n",
       "Home Health Agency                                         421\n",
       "Skilled Nursing Facility (SNF)                             266\n",
       "Acute Rehabilitation Facility (hospital or unit) (IRF)      92\n",
       "Infusion / Home                                             63\n",
       "HOME                                                        33\n",
       "DIS TO LAW ENFORCE                                          16\n",
       "AGAINST MED ADVICE                                          13\n",
       "SNF / Rehab                                                  8\n",
       "Hospice / Home                                               6\n",
       "Long Term Care Hospital (LTCH)                               1\n",
       "Name: Previous_Discharge_Type, dtype: int64"
      ]
     },
     "execution_count": 81,
     "metadata": {},
     "output_type": "execute_result"
    }
   ],
   "source": [
    "testData.Previous_Discharge_Type.value_counts()"
   ]
  },
  {
   "cell_type": "markdown",
   "metadata": {},
   "source": [
    "### 3.2. Treat Rare Categories"
   ]
  },
  {
   "cell_type": "code",
   "execution_count": 92,
   "metadata": {
    "tags": []
   },
   "outputs": [
    {
     "name": "stderr",
     "output_type": "stream",
     "text": [
      "The number of unique categories for variable Sex is less than that indicated in n_categories. Thus, all categories will be considered frequent\n"
     ]
    }
   ],
   "source": [
    "from feature_engine.encoding import RareLabelEncoder\n",
    "\n",
    "enc = RareLabelEncoder(tol=0.1, n_categories = 2)\n",
    "\n",
    "trainData, testData = enc.fit_transform(trainData), enc.transform(testData)"
   ]
  },
  {
   "cell_type": "code",
   "execution_count": 83,
   "metadata": {},
   "outputs": [
    {
     "data": {
      "text/plain": [
       "Unknown    14578\n",
       "Rare        2857\n",
       "Name: Previous_Discharge_Type, dtype: int64"
      ]
     },
     "execution_count": 83,
     "metadata": {},
     "output_type": "execute_result"
    }
   ],
   "source": [
    "trainData.Previous_Discharge_Type.value_counts()"
   ]
  },
  {
   "cell_type": "markdown",
   "metadata": {},
   "source": [
    "### 3.3. Drop Psudo-Constant Features (Small Variation)"
   ]
  },
  {
   "cell_type": "code",
   "execution_count": 93,
   "metadata": {},
   "outputs": [],
   "source": [
    "from feature_engine.selection import DropConstantFeatures\n",
    "\n",
    "con = DropConstantFeatures(tol=.95)\n",
    "\n",
    "trainData, testData = con.fit_transform(trainData), con.transform(testData)"
   ]
  },
  {
   "cell_type": "code",
   "execution_count": 19,
   "metadata": {},
   "outputs": [
    {
     "data": {
      "text/plain": [
       "(17435, 164)"
      ]
     },
     "execution_count": 19,
     "metadata": {},
     "output_type": "execute_result"
    }
   ],
   "source": [
    "trainData.shape"
   ]
  },
  {
   "cell_type": "markdown",
   "metadata": {
    "tags": []
   },
   "source": [
    "### 3.4. Drop Correlated Columns"
   ]
  },
  {
   "cell_type": "code",
   "execution_count": 94,
   "metadata": {},
   "outputs": [],
   "source": [
    "from feature_engine.selection import SmartCorrelatedSelection\n",
    "\n",
    "sc = SmartCorrelatedSelection(threshold = .4)\n",
    "\n",
    "trainData, testData = sc.fit_transform(trainData), sc.transform(testData)"
   ]
  },
  {
   "cell_type": "code",
   "execution_count": 21,
   "metadata": {},
   "outputs": [
    {
     "data": {
      "text/plain": [
       "(17435, 118)"
      ]
     },
     "execution_count": 21,
     "metadata": {},
     "output_type": "execute_result"
    }
   ],
   "source": [
    "trainData.shape"
   ]
  },
  {
   "cell_type": "markdown",
   "metadata": {},
   "source": [
    "### 3.5. Treat Outliers"
   ]
  },
  {
   "cell_type": "code",
   "execution_count": 95,
   "metadata": {},
   "outputs": [],
   "source": [
    "from feature_engine.outliers import Winsorizer\n",
    "\n",
    "out = Winsorizer(tail = \"both\")\n",
    "\n",
    "trainData, testData = out.fit_transform(trainData), out.transform(testData)"
   ]
  },
  {
   "cell_type": "markdown",
   "metadata": {},
   "source": [
    "### 3.6. Remove the Remaining Redundant Features"
   ]
  },
  {
   "cell_type": "markdown",
   "metadata": {},
   "source": [
    "Given that we have 800+ predictors in this data, we start with removing redundant features to decrease the number of predictors:"
   ]
  },
  {
   "cell_type": "code",
   "execution_count": 96,
   "metadata": {},
   "outputs": [
    {
     "name": "stdout",
     "output_type": "stream",
     "text": [
      "CPU times: user 1.03 s, sys: 12.1 ms, total: 1.04 s\n",
      "Wall time: 1.04 s\n"
     ]
    }
   ],
   "source": [
    "%%time\n",
    "from feature_engine.selection import SelectByInformationValue\n",
    "\n",
    "cor = SelectByInformationValue(threshold = .05)\n",
    "\n",
    "trainData, testData = cor.fit_transform(trainData,trainLabels), cor.transform(testData)"
   ]
  },
  {
   "cell_type": "code",
   "execution_count": 97,
   "metadata": {},
   "outputs": [
    {
     "data": {
      "text/plain": [
       "(17435, 45)"
      ]
     },
     "execution_count": 97,
     "metadata": {},
     "output_type": "execute_result"
    }
   ],
   "source": [
    "trainData.shape"
   ]
  },
  {
   "cell_type": "markdown",
   "metadata": {},
   "source": [
    "### 3.7. Encode the Categorical Features"
   ]
  },
  {
   "cell_type": "code",
   "execution_count": 100,
   "metadata": {
    "collapsed": true,
    "jupyter": {
     "outputs_hidden": true
    },
    "tags": []
   },
   "outputs": [
    {
     "data": {
      "text/html": [
       "<div>\n",
       "<style scoped>\n",
       "    .dataframe tbody tr th:only-of-type {\n",
       "        vertical-align: middle;\n",
       "    }\n",
       "\n",
       "    .dataframe tbody tr th {\n",
       "        vertical-align: top;\n",
       "    }\n",
       "\n",
       "    .dataframe thead th {\n",
       "        text-align: right;\n",
       "    }\n",
       "</style>\n",
       "<table border=\"1\" class=\"dataframe\">\n",
       "  <thead>\n",
       "    <tr style=\"text-align: right;\">\n",
       "      <th></th>\n",
       "      <th>Marital_Status</th>\n",
       "      <th>Payment_Class</th>\n",
       "      <th>Previous_Discharge_Type</th>\n",
       "    </tr>\n",
       "  </thead>\n",
       "  <tbody>\n",
       "    <tr>\n",
       "      <th>0</th>\n",
       "      <td>Single</td>\n",
       "      <td>Rare</td>\n",
       "      <td>Unknown</td>\n",
       "    </tr>\n",
       "    <tr>\n",
       "      <th>1</th>\n",
       "      <td>Divorced</td>\n",
       "      <td>Rare</td>\n",
       "      <td>Unknown</td>\n",
       "    </tr>\n",
       "    <tr>\n",
       "      <th>2</th>\n",
       "      <td>Married</td>\n",
       "      <td>Rare</td>\n",
       "      <td>Unknown</td>\n",
       "    </tr>\n",
       "    <tr>\n",
       "      <th>3</th>\n",
       "      <td>Married</td>\n",
       "      <td>Rare</td>\n",
       "      <td>Unknown</td>\n",
       "    </tr>\n",
       "    <tr>\n",
       "      <th>4</th>\n",
       "      <td>Married</td>\n",
       "      <td>Medicare</td>\n",
       "      <td>Rare</td>\n",
       "    </tr>\n",
       "    <tr>\n",
       "      <th>...</th>\n",
       "      <td>...</td>\n",
       "      <td>...</td>\n",
       "      <td>...</td>\n",
       "    </tr>\n",
       "    <tr>\n",
       "      <th>17430</th>\n",
       "      <td>Married</td>\n",
       "      <td>Rare</td>\n",
       "      <td>Unknown</td>\n",
       "    </tr>\n",
       "    <tr>\n",
       "      <th>17431</th>\n",
       "      <td>Widowed</td>\n",
       "      <td>Medicare</td>\n",
       "      <td>Unknown</td>\n",
       "    </tr>\n",
       "    <tr>\n",
       "      <th>17432</th>\n",
       "      <td>Married</td>\n",
       "      <td>Medicare</td>\n",
       "      <td>Unknown</td>\n",
       "    </tr>\n",
       "    <tr>\n",
       "      <th>17433</th>\n",
       "      <td>Married</td>\n",
       "      <td>Blue Shield</td>\n",
       "      <td>Unknown</td>\n",
       "    </tr>\n",
       "    <tr>\n",
       "      <th>17434</th>\n",
       "      <td>Single</td>\n",
       "      <td>Rare</td>\n",
       "      <td>Unknown</td>\n",
       "    </tr>\n",
       "  </tbody>\n",
       "</table>\n",
       "<p>17435 rows × 3 columns</p>\n",
       "</div>"
      ],
      "text/plain": [
       "      Marital_Status Payment_Class Previous_Discharge_Type\n",
       "0             Single          Rare                 Unknown\n",
       "1           Divorced          Rare                 Unknown\n",
       "2            Married          Rare                 Unknown\n",
       "3            Married          Rare                 Unknown\n",
       "4            Married      Medicare                    Rare\n",
       "...              ...           ...                     ...\n",
       "17430        Married          Rare                 Unknown\n",
       "17431        Widowed      Medicare                 Unknown\n",
       "17432        Married      Medicare                 Unknown\n",
       "17433        Married   Blue Shield                 Unknown\n",
       "17434         Single          Rare                 Unknown\n",
       "\n",
       "[17435 rows x 3 columns]"
      ]
     },
     "execution_count": 100,
     "metadata": {},
     "output_type": "execute_result"
    }
   ],
   "source": [
    "trainData.select_dtypes('object')"
   ]
  },
  {
   "cell_type": "code",
   "execution_count": 101,
   "metadata": {},
   "outputs": [
    {
     "data": {
      "text/plain": [
       "array(['Single', 'Divorced', 'Married', 'Widowed', 'Rare'], dtype=object)"
      ]
     },
     "execution_count": 101,
     "metadata": {},
     "output_type": "execute_result"
    }
   ],
   "source": [
    "trainData.Marital_Status.unique()"
   ]
  },
  {
   "cell_type": "code",
   "execution_count": 102,
   "metadata": {},
   "outputs": [],
   "source": [
    "from feature_engine.encoding import WoEEncoder\n",
    "\n",
    "enc = WoEEncoder()\n",
    "\n",
    "trainData, testData = enc.fit_transform(trainData,trainLabels), enc.transform(testData)"
   ]
  },
  {
   "cell_type": "code",
   "execution_count": 103,
   "metadata": {},
   "outputs": [
    {
     "data": {
      "text/plain": [
       "array([-0.2761477 ,  0.27778735, -0.21574944,  0.69993346, -0.28562802])"
      ]
     },
     "execution_count": 103,
     "metadata": {},
     "output_type": "execute_result"
    }
   ],
   "source": [
    "trainData.Marital_Status.unique()"
   ]
  },
  {
   "cell_type": "markdown",
   "metadata": {},
   "source": [
    "## 4. Train/ Evaluate The Classifier"
   ]
  },
  {
   "cell_type": "code",
   "execution_count": 104,
   "metadata": {},
   "outputs": [
    {
     "data": {
      "text/html": [
       "<style>#sk-container-id-7 {color: black;background-color: white;}#sk-container-id-7 pre{padding: 0;}#sk-container-id-7 div.sk-toggleable {background-color: white;}#sk-container-id-7 label.sk-toggleable__label {cursor: pointer;display: block;width: 100%;margin-bottom: 0;padding: 0.3em;box-sizing: border-box;text-align: center;}#sk-container-id-7 label.sk-toggleable__label-arrow:before {content: \"▸\";float: left;margin-right: 0.25em;color: #696969;}#sk-container-id-7 label.sk-toggleable__label-arrow:hover:before {color: black;}#sk-container-id-7 div.sk-estimator:hover label.sk-toggleable__label-arrow:before {color: black;}#sk-container-id-7 div.sk-toggleable__content {max-height: 0;max-width: 0;overflow: hidden;text-align: left;background-color: #f0f8ff;}#sk-container-id-7 div.sk-toggleable__content pre {margin: 0.2em;color: black;border-radius: 0.25em;background-color: #f0f8ff;}#sk-container-id-7 input.sk-toggleable__control:checked~div.sk-toggleable__content {max-height: 200px;max-width: 100%;overflow: auto;}#sk-container-id-7 input.sk-toggleable__control:checked~label.sk-toggleable__label-arrow:before {content: \"▾\";}#sk-container-id-7 div.sk-estimator input.sk-toggleable__control:checked~label.sk-toggleable__label {background-color: #d4ebff;}#sk-container-id-7 div.sk-label input.sk-toggleable__control:checked~label.sk-toggleable__label {background-color: #d4ebff;}#sk-container-id-7 input.sk-hidden--visually {border: 0;clip: rect(1px 1px 1px 1px);clip: rect(1px, 1px, 1px, 1px);height: 1px;margin: -1px;overflow: hidden;padding: 0;position: absolute;width: 1px;}#sk-container-id-7 div.sk-estimator {font-family: monospace;background-color: #f0f8ff;border: 1px dotted black;border-radius: 0.25em;box-sizing: border-box;margin-bottom: 0.5em;}#sk-container-id-7 div.sk-estimator:hover {background-color: #d4ebff;}#sk-container-id-7 div.sk-parallel-item::after {content: \"\";width: 100%;border-bottom: 1px solid gray;flex-grow: 1;}#sk-container-id-7 div.sk-label:hover label.sk-toggleable__label {background-color: #d4ebff;}#sk-container-id-7 div.sk-serial::before {content: \"\";position: absolute;border-left: 1px solid gray;box-sizing: border-box;top: 0;bottom: 0;left: 50%;z-index: 0;}#sk-container-id-7 div.sk-serial {display: flex;flex-direction: column;align-items: center;background-color: white;padding-right: 0.2em;padding-left: 0.2em;position: relative;}#sk-container-id-7 div.sk-item {position: relative;z-index: 1;}#sk-container-id-7 div.sk-parallel {display: flex;align-items: stretch;justify-content: center;background-color: white;position: relative;}#sk-container-id-7 div.sk-item::before, #sk-container-id-7 div.sk-parallel-item::before {content: \"\";position: absolute;border-left: 1px solid gray;box-sizing: border-box;top: 0;bottom: 0;left: 50%;z-index: -1;}#sk-container-id-7 div.sk-parallel-item {display: flex;flex-direction: column;z-index: 1;position: relative;background-color: white;}#sk-container-id-7 div.sk-parallel-item:first-child::after {align-self: flex-end;width: 50%;}#sk-container-id-7 div.sk-parallel-item:last-child::after {align-self: flex-start;width: 50%;}#sk-container-id-7 div.sk-parallel-item:only-child::after {width: 0;}#sk-container-id-7 div.sk-dashed-wrapped {border: 1px dashed gray;margin: 0 0.4em 0.5em 0.4em;box-sizing: border-box;padding-bottom: 0.4em;background-color: white;}#sk-container-id-7 div.sk-label label {font-family: monospace;font-weight: bold;display: inline-block;line-height: 1.2em;}#sk-container-id-7 div.sk-label-container {text-align: center;}#sk-container-id-7 div.sk-container {/* jupyter's `normalize.less` sets `[hidden] { display: none; }` but bootstrap.min.css set `[hidden] { display: none !important; }` so we also need the `!important` here to be able to override the default hidden behavior on the sphinx rendered scikit-learn.org. See: https://github.com/scikit-learn/scikit-learn/issues/21755 */display: inline-block !important;position: relative;}#sk-container-id-7 div.sk-text-repr-fallback {display: none;}</style><div id=\"sk-container-id-7\" class=\"sk-top-container\"><div class=\"sk-text-repr-fallback\"><pre>XGBClassifier(base_score=0.5, booster=&#x27;gbtree&#x27;, callbacks=None,\n",
       "              colsample_bylevel=1, colsample_bynode=1, colsample_bytree=1,\n",
       "              early_stopping_rounds=None, enable_categorical=False,\n",
       "              eval_metric=None, feature_types=None, gamma=0, gpu_id=-1,\n",
       "              grow_policy=&#x27;depthwise&#x27;, importance_type=None,\n",
       "              interaction_constraints=&#x27;&#x27;, learning_rate=0.300000012,\n",
       "              max_bin=256, max_cat_threshold=64, max_cat_to_onehot=4,\n",
       "              max_delta_step=0, max_depth=6, max_leaves=0, min_child_weight=1,\n",
       "              missing=nan, monotone_constraints=&#x27;()&#x27;, n_estimators=100,\n",
       "              n_jobs=0, num_parallel_tree=1, predictor=&#x27;auto&#x27;, random_state=0, ...)</pre><b>In a Jupyter environment, please rerun this cell to show the HTML representation or trust the notebook. <br />On GitHub, the HTML representation is unable to render, please try loading this page with nbviewer.org.</b></div><div class=\"sk-container\" hidden><div class=\"sk-item\"><div class=\"sk-estimator sk-toggleable\"><input class=\"sk-toggleable__control sk-hidden--visually\" id=\"sk-estimator-id-7\" type=\"checkbox\" checked><label for=\"sk-estimator-id-7\" class=\"sk-toggleable__label sk-toggleable__label-arrow\">XGBClassifier</label><div class=\"sk-toggleable__content\"><pre>XGBClassifier(base_score=0.5, booster=&#x27;gbtree&#x27;, callbacks=None,\n",
       "              colsample_bylevel=1, colsample_bynode=1, colsample_bytree=1,\n",
       "              early_stopping_rounds=None, enable_categorical=False,\n",
       "              eval_metric=None, feature_types=None, gamma=0, gpu_id=-1,\n",
       "              grow_policy=&#x27;depthwise&#x27;, importance_type=None,\n",
       "              interaction_constraints=&#x27;&#x27;, learning_rate=0.300000012,\n",
       "              max_bin=256, max_cat_threshold=64, max_cat_to_onehot=4,\n",
       "              max_delta_step=0, max_depth=6, max_leaves=0, min_child_weight=1,\n",
       "              missing=nan, monotone_constraints=&#x27;()&#x27;, n_estimators=100,\n",
       "              n_jobs=0, num_parallel_tree=1, predictor=&#x27;auto&#x27;, random_state=0, ...)</pre></div></div></div></div></div>"
      ],
      "text/plain": [
       "XGBClassifier(base_score=0.5, booster='gbtree', callbacks=None,\n",
       "              colsample_bylevel=1, colsample_bynode=1, colsample_bytree=1,\n",
       "              early_stopping_rounds=None, enable_categorical=False,\n",
       "              eval_metric=None, feature_types=None, gamma=0, gpu_id=-1,\n",
       "              grow_policy='depthwise', importance_type=None,\n",
       "              interaction_constraints='', learning_rate=0.300000012,\n",
       "              max_bin=256, max_cat_threshold=64, max_cat_to_onehot=4,\n",
       "              max_delta_step=0, max_depth=6, max_leaves=0, min_child_weight=1,\n",
       "              missing=nan, monotone_constraints='()', n_estimators=100,\n",
       "              n_jobs=0, num_parallel_tree=1, predictor='auto', random_state=0, ...)"
      ]
     },
     "execution_count": 104,
     "metadata": {},
     "output_type": "execute_result"
    }
   ],
   "source": [
    "xgb = XGBClassifier(random_state=0)\n",
    "xgb.fit(trainData, trainLabels)"
   ]
  },
  {
   "cell_type": "code",
   "execution_count": 105,
   "metadata": {},
   "outputs": [
    {
     "name": "stdout",
     "output_type": "stream",
     "text": [
      "Accuracy: 88.04\n",
      "PrecisionNegative: 90.08\n",
      "PrecisionPositive: 81.34\n",
      "RecallNegative: 94.07\n",
      "RecallPositive: 71.39\n",
      "AUC Score: 92.77\n",
      "\n"
     ]
    }
   ],
   "source": [
    "predictedProbabilities = xgb.predict_proba(testData)\n",
    "predictedLabels = xgb.predict(testData) \n",
    "calculateMetricsAndPrint(predictedLabels, predictedProbabilities, testLabels)"
   ]
  },
  {
   "cell_type": "code",
   "execution_count": 106,
   "metadata": {},
   "outputs": [
    {
     "name": "stderr",
     "output_type": "stream",
     "text": [
      "Function plot_confusion_matrix is deprecated; Function `plot_confusion_matrix` is deprecated in 1.0 and will be removed in 1.2. Use one of the class methods: ConfusionMatrixDisplay.from_predictions or ConfusionMatrixDisplay.from_estimator.\n"
     ]
    },
    {
     "data": {
      "image/png": "[encoded data removed]",
      "text/plain": [
       "<Figure size 640x480 with 2 Axes>"
      ]
     },
     "metadata": {},
     "output_type": "display_data"
    }
   ],
   "source": [
    "plot_conf_mat(xgb, # The classifier object\n",
    "              testData, # The test data set aside for evaluation in train_test_split\n",
    "              testLabels # Actual labels\n",
    "             )"
   ]
  },
  {
   "cell_type": "code",
   "execution_count": 30,
   "metadata": {},
   "outputs": [
    {
     "data": {
      "text/plain": [
       "(5812, 45)"
      ]
     },
     "execution_count": 30,
     "metadata": {},
     "output_type": "execute_result"
    }
   ],
   "source": [
    "testData.shape"
   ]
  },
  {
   "cell_type": "markdown",
   "metadata": {},
   "source": [
    "## 5. Cost-benefit Analysis"
   ]
  },
  {
   "cell_type": "markdown",
   "metadata": {},
   "source": [
    "So far, we built a predictive model-xgb (using XGBClassifier). Below, we use cost-benefit analysis to compare xgb and the status quo (no model). But before doing that, we need to determine the costs associated with FP and FN. \n",
    "\n",
    "In the case study, we read that it takes about four hours for a social worker to fill out UAI. We also learned that the average hourly rate to compensate the social workers is $18. Hence, the cost of filling out UAI will be:\n",
    "\n",
    "$$ $18 * 4 = $72 $$\n",
    "\n",
    "However, if UAI is needed for discharge, the patient needs to wait in the hospital for at least an additional four hours. In the case, we read that each additional day a patient stays in the hospital will cost 2,081 USD. This translates to 86.71 USD per hour. Hence, the additional four-hour stay will cost the hospital \n",
    "\n",
    "$$ $86.71 * 4 = $347 $$\n",
    "\n",
    "If the staff fills out UAI before the discharge ticket is generated, this additional cost would be avoided.  \n"
   ]
  },
  {
   "cell_type": "markdown",
   "metadata": {
    "tags": []
   },
   "source": [
    "To sum up, we have the following information based on the case study and the data files in this notebook:\n",
    "\n",
    "* Cost of each additional day in hospital: $2,081\n",
    "\n",
    "* Cost of each additional hour in hospital: $86.71\n",
    "\n",
    "* Time it takes to fill out UAI: 4 hours\n",
    "\n",
    "* Social workers' hourly rate: $18\n",
    "\n",
    "* Cost of filling out UAI: $72\n",
    "\n",
    "* Additional hospital cost if UAI is completed after discharge recommendation triggered: $347\n",
    "\n",
    "* Annual number of admitted patients: 28,539 \n",
    "\n",
    "* Number of patients in testData: 5,812\n"
   ]
  },
  {
   "cell_type": "markdown",
   "metadata": {},
   "source": [
    "Using this information, we can go ahead and conduct cost-benefit analysis. First, we estimate the cost or savings per cell in the confusion matrix:\n",
    "\n",
    "|       | Predicted 0 | Predicted 1     |\n",
    "| :---        |    :----:   |          ---: |\n",
    "| Actual 0      | No cost      | 72 USD additional cost  |\n",
    "| Actual 1   | 347 USD additional cost | No cost    |\n",
    "\n",
    "Before comparing the two models, let's estimate the costs associated with two naive models: "
   ]
  },
  {
   "cell_type": "markdown",
   "metadata": {},
   "source": [
    "#### Scenario 1: No predictive model- predict no one needs UAI:"
   ]
  },
  {
   "cell_type": "markdown",
   "metadata": {},
   "source": [
    "This is the status quo. In this scenario, every UAI will be filled only when the discharge recommendation is triggered. This is the equivalent of a naive model that predicts no one needs UAI. In this scenario, the confusion matrix will look like this:"
   ]
  },
  {
   "cell_type": "markdown",
   "metadata": {},
   "source": [
    "|       | Predicted 0 | Predicted 1     |\n",
    "| :---        |    :----:   |          ---: |\n",
    "| Actual 0      | 4,455       | 0   |\n",
    "| Actual 1   | 1,357       | 0      |"
   ]
  },
  {
   "cell_type": "markdown",
   "metadata": {},
   "source": [
    "The cost associated with this model will be equal to:"
   ]
  },
  {
   "cell_type": "code",
   "execution_count": 31,
   "metadata": {},
   "outputs": [
    {
     "data": {
      "text/plain": [
       "470879"
      ]
     },
     "execution_count": 31,
     "metadata": {},
     "output_type": "execute_result"
    }
   ],
   "source": [
    "1357 * 347"
   ]
  },
  {
   "cell_type": "markdown",
   "metadata": {},
   "source": [
    "This is the cost associated with 5,812 patients in testData. To estimate the total annual cost, we have to extrapolate this value for 28,539 annual patients:"
   ]
  },
  {
   "cell_type": "code",
   "execution_count": 32,
   "metadata": {},
   "outputs": [
    {
     "data": {
      "text/plain": [
       "2312184.408293186"
      ]
     },
     "execution_count": 32,
     "metadata": {},
     "output_type": "execute_result"
    }
   ],
   "source": [
    "1357 * 347 * (28539/5812)"
   ]
  },
  {
   "cell_type": "markdown",
   "metadata": {},
   "source": [
    "We can see that the status quo costs about 2.3M USD for UVA Hospital. "
   ]
  },
  {
   "cell_type": "markdown",
   "metadata": {},
   "source": [
    "#### Scenario 2: No predictive model- predict everyone needs UAI:"
   ]
  },
  {
   "cell_type": "markdown",
   "metadata": {},
   "source": [
    "In this scenario, the hospital staff members fill out UAI for every patient before the discharge recommendation is triggered:\n",
    "\n",
    "|       | Predicted 0 | Predicted 1     |\n",
    "| :---        |    :----:   |          ---: |\n",
    "| Actual 0      | 0       | 4,455   |\n",
    "| Actual 1   | 0       | 1,357      |\n",
    "\n",
    "The cost will be equal to:"
   ]
  },
  {
   "cell_type": "code",
   "execution_count": 33,
   "metadata": {},
   "outputs": [
    {
     "data": {
      "text/plain": [
       "1575046.3936682725"
      ]
     },
     "execution_count": 33,
     "metadata": {},
     "output_type": "execute_result"
    }
   ],
   "source": [
    "(4455 * 72) * (28539/5812)"
   ]
  },
  {
   "cell_type": "markdown",
   "metadata": {},
   "source": [
    "If UVA Hospital proactively fills out UAI for every patient, the cost will be about 700K USD, which is 1M USD less than the status quo."
   ]
  },
  {
   "cell_type": "markdown",
   "metadata": {},
   "source": [
    "#### Scenario 3: Predictive model- XGB Classifier:"
   ]
  },
  {
   "cell_type": "markdown",
   "metadata": {},
   "source": [
    "Let's print the confusion matrix one more time:"
   ]
  },
  {
   "cell_type": "code",
   "execution_count": 34,
   "metadata": {},
   "outputs": [
    {
     "name": "stderr",
     "output_type": "stream",
     "text": [
      "/opt/conda/lib/python3.10/site-packages/sklearn/utils/deprecation.py:87: FutureWarning: Function plot_confusion_matrix is deprecated; Function `plot_confusion_matrix` is deprecated in 1.0 and will be removed in 1.2. Use one of the class methods: ConfusionMatrixDisplay.from_predictions or ConfusionMatrixDisplay.from_estimator.\n",
      "  warnings.warn(msg, category=FutureWarning)\n"
     ]
    },
    {
     "data": {
      "image/png": "[encoded data removed]",
      "text/plain": [
       "<Figure size 640x480 with 2 Axes>"
      ]
     },
     "metadata": {},
     "output_type": "display_data"
    }
   ],
   "source": [
    "from custom_functions import plot_conf_mat, plot_roc_curve, plot_feature_importance, calculateMetricsAndPrint\n",
    "plot_conf_mat(xgb, # The classifier object\n",
    "              testData, # The test data set aside for evaluation in train_test_split\n",
    "              testLabels # Actual labels\n",
    "             )"
   ]
  },
  {
   "cell_type": "markdown",
   "metadata": {
    "tags": []
   },
   "source": [
    "The cost will be equal to:"
   ]
  },
  {
   "cell_type": "code",
   "execution_count": 107,
   "metadata": {},
   "outputs": [
    {
     "name": "stdout",
     "output_type": "stream",
     "text": [
      "Total Cost = 842568.3086717136.\n"
     ]
    }
   ],
   "source": [
    "FP_Cost = (253 * 72) * (28539/5812)\n",
    "FN_Cost = (442 * 347) * (28539/5812)\n",
    "\n",
    "print(\"Total Cost = {}.\".format(FP_Cost + FN_Cost))"
   ]
  },
  {
   "cell_type": "markdown",
   "metadata": {},
   "source": [
    "Let's compare this value with the previous two values:"
   ]
  },
  {
   "cell_type": "code",
   "execution_count": 108,
   "metadata": {},
   "outputs": [
    {
     "name": "stdout",
     "output_type": "stream",
     "text": [
      "Savings compared to scenario 1: 1469616.0996214726\n"
     ]
    }
   ],
   "source": [
    "Scenario_1_3 = 2312184.408293186 - 842568.3086717136\n",
    "print(\"Savings compared to scenario 1: {}\".format(Scenario_1_3))"
   ]
  },
  {
   "cell_type": "code",
   "execution_count": 109,
   "metadata": {},
   "outputs": [
    {
     "name": "stdout",
     "output_type": "stream",
     "text": [
      "Savings compared to scenario 2: 732478.084996559\n"
     ]
    }
   ],
   "source": [
    "Scenario_2_3 = 1575046.3936682725 - 842568.3086717136\n",
    "print(\"Savings compared to scenario 2: {}\".format(Scenario_2_3))"
   ]
  },
  {
   "cell_type": "markdown",
   "metadata": {},
   "source": [
    "### Your Task:"
   ]
  },
  {
   "cell_type": "markdown",
   "metadata": {},
   "source": [
    "Use XGboost, LightGBM, CatBoost, or any other algorithm you prefer to build a cost-sensitive model. Then compare the savings of that model with scenario 1. \n",
    "\n",
    "This is a case competition. So please enter the highest savings into the leaderboard. The link will be shared in class. The highest amount of saving is the metric for this competition. \n",
    "\n",
    "**Tip- To be able to save more, you can:**\n",
    "\n",
    "+ improve the predictive performance of the model (its ability to separate 0s and 1s). This can be done using different pre-processing steps/ methods, a different algorithm, and/ or optimizing the hyperparameters of the algorithm.\n",
    "\n",
    "+ use different class weights as you train your models. \n",
    "\n",
    "+ decide/ change which matric (e.g., AUC, recall, accuracy, ...) should be used when optimizing the hyperparameters.\n",
    "\n",
    "**Please enter the savings amount in leaderboardhq using the link provided below:**\n",
    "\n",
    "Team 1:\thttps://leaderboardhq.com/addscore/qrfoujdr/s8sgq5ed \n",
    "\n",
    "Team 2:\thttps://leaderboardhq.com/addscore/qrfoujdr/ln1d20ff\n",
    "\n",
    "Team 3:\thttps://leaderboardhq.com/addscore/qrfoujdr/ubfeiyfn\n",
    "\n",
    "Team 4:\thttps://leaderboardhq.com/addscore/qrfoujdr/4hkmzxli \n",
    "\n",
    "Team 5:\thttps://leaderboardhq.com/addscore/qrfoujdr/pth24ax2 \n",
    "\n",
    "Team 6:\thttps://leaderboardhq.com/addscore/qrfoujdr/8h2xc846\n",
    "\n",
    "Team 7:\thttps://leaderboardhq.com/addscore/qrfoujdr/e2hpc7kb \n",
    "\n",
    "Team 8:\thttps://leaderboardhq.com/addscore/qrfoujdr/9woqtvvi\n",
    "\n",
    "Team 9:\thttps://leaderboardhq.com/addscore/qrfoujdr/n39umthb\n",
    "\n",
    "Team 10: https://leaderboardhq.com/addscore/qrfoujdr/mjd33pc7\n",
    "\n",
    "Team 11: https://leaderboardhq.com/addscore/qrfoujdr/wcqy0773\n",
    "\n",
    "Team 12: https://leaderboardhq.com/addscore/qrfoujdr/rxk986aj\n",
    "\n",
    "### Rules:\n",
    "1- Please use trainInput solely for training your models and testInput solely for testing them.\n",
    "\n",
    "2- The confusion matrix in your solution should be based on testInput. Therefore, the costs are calculated based on the confusion matrix for testInput.\n",
    "\n",
    "3- The evaluation metric is the total saving (higher is better). \n",
    "\n",
    "4- You can see the entire leaderboard here: https://leaderboardhq.com/qrfoujdr\n"
   ]
  },
  {
   "cell_type": "markdown",
   "metadata": {},
   "source": [
    "Admin link (for Reza): https://leaderboardhq.com/7bkmch00"
   ]
  },
  {
   "cell_type": "code",
   "execution_count": null,
   "metadata": {},
   "outputs": [],
   "source": []
  }
 ],
 "metadata": {
  "interpreter": {
   "hash": "f7d1f0e70e3ca0134d66ef91f77ab860149e5029949fd8de746afe9338c863a1"
  },
  "kernelspec": {
   "display_name": "Python 3 (ipykernel)",
   "language": "python",
   "name": "python3"
  },
  "language_info": {
   "codemirror_mode": {
    "name": "ipython",
    "version": 3
   },
   "file_extension": ".py",
   "mimetype": "text/x-python",
   "name": "python",
   "nbconvert_exporter": "python",
   "pygments_lexer": "ipython3",
   "version": "3.11.4"
  }
 },
 "nbformat": 4,
 "nbformat_minor": 4
}
